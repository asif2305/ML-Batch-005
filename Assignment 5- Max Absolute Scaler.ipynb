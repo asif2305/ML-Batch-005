{
 "cells": [
  {
   "cell_type": "code",
   "execution_count": 12,
   "id": "832354b2",
   "metadata": {},
   "outputs": [
    {
     "data": {
      "text/html": [
       "<div>\n",
       "<style scoped>\n",
       "    .dataframe tbody tr th:only-of-type {\n",
       "        vertical-align: middle;\n",
       "    }\n",
       "\n",
       "    .dataframe tbody tr th {\n",
       "        vertical-align: top;\n",
       "    }\n",
       "\n",
       "    .dataframe thead th {\n",
       "        text-align: right;\n",
       "    }\n",
       "</style>\n",
       "<table border=\"1\" class=\"dataframe\">\n",
       "  <thead>\n",
       "    <tr style=\"text-align: right;\">\n",
       "      <th></th>\n",
       "      <th>Marketing Spend</th>\n",
       "      <th>Administration</th>\n",
       "      <th>Transport</th>\n",
       "      <th>Area</th>\n",
       "      <th>Profit</th>\n",
       "    </tr>\n",
       "  </thead>\n",
       "  <tbody>\n",
       "    <tr>\n",
       "      <th>0</th>\n",
       "      <td>114523.61</td>\n",
       "      <td>136897.80</td>\n",
       "      <td>471784.10</td>\n",
       "      <td>Dhaka</td>\n",
       "      <td>192261.83</td>\n",
       "    </tr>\n",
       "    <tr>\n",
       "      <th>1</th>\n",
       "      <td>162597.70</td>\n",
       "      <td>151377.59</td>\n",
       "      <td>443898.53</td>\n",
       "      <td>Ctg</td>\n",
       "      <td>191792.06</td>\n",
       "    </tr>\n",
       "    <tr>\n",
       "      <th>2</th>\n",
       "      <td>153441.51</td>\n",
       "      <td>101145.55</td>\n",
       "      <td>407934.54</td>\n",
       "      <td>Rangpur</td>\n",
       "      <td>191050.39</td>\n",
       "    </tr>\n",
       "    <tr>\n",
       "      <th>3</th>\n",
       "      <td>144372.41</td>\n",
       "      <td>118671.85</td>\n",
       "      <td>383199.62</td>\n",
       "      <td>Dhaka</td>\n",
       "      <td>182901.99</td>\n",
       "    </tr>\n",
       "    <tr>\n",
       "      <th>4</th>\n",
       "      <td>142107.34</td>\n",
       "      <td>91391.77</td>\n",
       "      <td>366168.42</td>\n",
       "      <td>Rangpur</td>\n",
       "      <td>166187.94</td>\n",
       "    </tr>\n",
       "  </tbody>\n",
       "</table>\n",
       "</div>"
      ],
      "text/plain": [
       "   Marketing Spend  Administration  Transport     Area     Profit\n",
       "0        114523.61       136897.80  471784.10    Dhaka  192261.83\n",
       "1        162597.70       151377.59  443898.53      Ctg  191792.06\n",
       "2        153441.51       101145.55  407934.54  Rangpur  191050.39\n",
       "3        144372.41       118671.85  383199.62    Dhaka  182901.99\n",
       "4        142107.34        91391.77  366168.42  Rangpur  166187.94"
      ]
     },
     "execution_count": 12,
     "metadata": {},
     "output_type": "execute_result"
    }
   ],
   "source": [
    "import pandas as pd\n",
    "df=pd.read_csv('agora.csv')\n",
    "df.head()"
   ]
  },
  {
   "cell_type": "markdown",
   "id": "23a96e85",
   "metadata": {},
   "source": [
    "# MaxAbsScaler"
   ]
  },
  {
   "cell_type": "code",
   "execution_count": 13,
   "id": "968cec4f",
   "metadata": {},
   "outputs": [],
   "source": [
    "from sklearn.preprocessing import MaxAbsScaler"
   ]
  },
  {
   "cell_type": "code",
   "execution_count": 14,
   "id": "3d967617",
   "metadata": {},
   "outputs": [],
   "source": [
    "maxAbsScaler=MaxAbsScaler()"
   ]
  },
  {
   "cell_type": "code",
   "execution_count": 15,
   "id": "b5ccc370",
   "metadata": {},
   "outputs": [],
   "source": [
    "# drop column\n",
    "new_df=df.drop(['Area','Profit'],axis=1)\n"
   ]
  },
  {
   "cell_type": "code",
   "execution_count": 16,
   "id": "5b904697",
   "metadata": {},
   "outputs": [
    {
     "data": {
      "text/html": [
       "<div>\n",
       "<style scoped>\n",
       "    .dataframe tbody tr th:only-of-type {\n",
       "        vertical-align: middle;\n",
       "    }\n",
       "\n",
       "    .dataframe tbody tr th {\n",
       "        vertical-align: top;\n",
       "    }\n",
       "\n",
       "    .dataframe thead th {\n",
       "        text-align: right;\n",
       "    }\n",
       "</style>\n",
       "<table border=\"1\" class=\"dataframe\">\n",
       "  <thead>\n",
       "    <tr style=\"text-align: right;\">\n",
       "      <th></th>\n",
       "      <th>Marketing Spend</th>\n",
       "      <th>Administration</th>\n",
       "      <th>Transport</th>\n",
       "    </tr>\n",
       "  </thead>\n",
       "  <tbody>\n",
       "    <tr>\n",
       "      <th>0</th>\n",
       "      <td>114523.61</td>\n",
       "      <td>136897.80</td>\n",
       "      <td>471784.10</td>\n",
       "    </tr>\n",
       "    <tr>\n",
       "      <th>1</th>\n",
       "      <td>162597.70</td>\n",
       "      <td>151377.59</td>\n",
       "      <td>443898.53</td>\n",
       "    </tr>\n",
       "    <tr>\n",
       "      <th>2</th>\n",
       "      <td>153441.51</td>\n",
       "      <td>101145.55</td>\n",
       "      <td>407934.54</td>\n",
       "    </tr>\n",
       "    <tr>\n",
       "      <th>3</th>\n",
       "      <td>144372.41</td>\n",
       "      <td>118671.85</td>\n",
       "      <td>383199.62</td>\n",
       "    </tr>\n",
       "    <tr>\n",
       "      <th>4</th>\n",
       "      <td>142107.34</td>\n",
       "      <td>91391.77</td>\n",
       "      <td>366168.42</td>\n",
       "    </tr>\n",
       "  </tbody>\n",
       "</table>\n",
       "</div>"
      ],
      "text/plain": [
       "   Marketing Spend  Administration  Transport\n",
       "0        114523.61       136897.80  471784.10\n",
       "1        162597.70       151377.59  443898.53\n",
       "2        153441.51       101145.55  407934.54\n",
       "3        144372.41       118671.85  383199.62\n",
       "4        142107.34        91391.77  366168.42"
      ]
     },
     "execution_count": 16,
     "metadata": {},
     "output_type": "execute_result"
    }
   ],
   "source": [
    "new_df.head()"
   ]
  },
  {
   "cell_type": "markdown",
   "id": "46e315ee",
   "metadata": {},
   "source": [
    "# fit_transform"
   ]
  },
  {
   "cell_type": "code",
   "execution_count": 17,
   "id": "3c3f47c2",
   "metadata": {},
   "outputs": [],
   "source": [
    "new_df_fit_transform= maxAbsScaler.fit_transform(new_df)"
   ]
  },
  {
   "cell_type": "code",
   "execution_count": 18,
   "id": "e5ec797d",
   "metadata": {},
   "outputs": [
    {
     "data": {
      "text/plain": [
       "Index(['Marketing Spend', 'Administration', 'Transport', 'Area', 'Profit'], dtype='object')"
      ]
     },
     "execution_count": 18,
     "metadata": {},
     "output_type": "execute_result"
    }
   ],
   "source": [
    "df.columns"
   ]
  },
  {
   "cell_type": "markdown",
   "id": "b53805b9",
   "metadata": {},
   "source": [
    "# Convert into data frame"
   ]
  },
  {
   "cell_type": "code",
   "execution_count": 19,
   "id": "445902d9",
   "metadata": {},
   "outputs": [],
   "source": [
    "output=pd.DataFrame(new_df_fit_transform,columns=['Marketing Spend', 'Administration', 'Transport'])"
   ]
  },
  {
   "cell_type": "code",
   "execution_count": 20,
   "id": "75517f4a",
   "metadata": {},
   "outputs": [
    {
     "data": {
      "text/html": [
       "<div>\n",
       "<style scoped>\n",
       "    .dataframe tbody tr th:only-of-type {\n",
       "        vertical-align: middle;\n",
       "    }\n",
       "\n",
       "    .dataframe tbody tr th {\n",
       "        vertical-align: top;\n",
       "    }\n",
       "\n",
       "    .dataframe thead th {\n",
       "        text-align: right;\n",
       "    }\n",
       "</style>\n",
       "<table border=\"1\" class=\"dataframe\">\n",
       "  <thead>\n",
       "    <tr style=\"text-align: right;\">\n",
       "      <th></th>\n",
       "      <th>Marketing Spend</th>\n",
       "      <th>Administration</th>\n",
       "      <th>Transport</th>\n",
       "    </tr>\n",
       "  </thead>\n",
       "  <tbody>\n",
       "    <tr>\n",
       "      <th>0</th>\n",
       "      <td>0.692617</td>\n",
       "      <td>0.749527</td>\n",
       "      <td>1.000000</td>\n",
       "    </tr>\n",
       "    <tr>\n",
       "      <th>1</th>\n",
       "      <td>0.983359</td>\n",
       "      <td>0.828805</td>\n",
       "      <td>0.940893</td>\n",
       "    </tr>\n",
       "    <tr>\n",
       "      <th>2</th>\n",
       "      <td>0.927985</td>\n",
       "      <td>0.553781</td>\n",
       "      <td>0.864664</td>\n",
       "    </tr>\n",
       "    <tr>\n",
       "      <th>3</th>\n",
       "      <td>0.873136</td>\n",
       "      <td>0.649738</td>\n",
       "      <td>0.812235</td>\n",
       "    </tr>\n",
       "    <tr>\n",
       "      <th>4</th>\n",
       "      <td>0.859438</td>\n",
       "      <td>0.500378</td>\n",
       "      <td>0.776136</td>\n",
       "    </tr>\n",
       "  </tbody>\n",
       "</table>\n",
       "</div>"
      ],
      "text/plain": [
       "   Marketing Spend  Administration  Transport\n",
       "0         0.692617        0.749527   1.000000\n",
       "1         0.983359        0.828805   0.940893\n",
       "2         0.927985        0.553781   0.864664\n",
       "3         0.873136        0.649738   0.812235\n",
       "4         0.859438        0.500378   0.776136"
      ]
     },
     "execution_count": 20,
     "metadata": {},
     "output_type": "execute_result"
    }
   ],
   "source": [
    "output.head()"
   ]
  },
  {
   "cell_type": "code",
   "execution_count": null,
   "id": "2b37ace5",
   "metadata": {},
   "outputs": [],
   "source": []
  },
  {
   "cell_type": "code",
   "execution_count": null,
   "id": "af811a97",
   "metadata": {},
   "outputs": [],
   "source": []
  }
 ],
 "metadata": {
  "kernelspec": {
   "display_name": "Python 3",
   "language": "python",
   "name": "python3"
  },
  "language_info": {
   "codemirror_mode": {
    "name": "ipython",
    "version": 3
   },
   "file_extension": ".py",
   "mimetype": "text/x-python",
   "name": "python",
   "nbconvert_exporter": "python",
   "pygments_lexer": "ipython3",
   "version": "3.8.8"
  }
 },
 "nbformat": 4,
 "nbformat_minor": 5
}
